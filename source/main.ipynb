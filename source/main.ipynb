{
 "cells": [
  {
   "cell_type": "markdown",
   "metadata": {},
   "source": [
    "### Preparar datos, entrenar y evaluar modelo"
   ]
  },
  {
   "cell_type": "code",
   "execution_count": 1,
   "metadata": {},
   "outputs": [
    {
     "name": "stdout",
     "output_type": "stream",
     "text": [
      "Época [1/5], Pérdida: 1.2715\n",
      "Época [2/5], Pérdida: 0.8248\n",
      "Época [3/5], Pérdida: 0.5886\n",
      "Época [4/5], Pérdida: 0.4862\n",
      "Época [5/5], Pérdida: 0.3717\n",
      "Exactitud de validación: 66.18%\n"
     ]
    }
   ],
   "source": [
    "import torch\n",
    "import torch.nn as nn\n",
    "import torch.optim as optim\n",
    "import torchvision.transforms as transforms\n",
    "import torchvision.datasets as datasets\n",
    "import torchvision.models as models\n",
    "from torch.utils.data import DataLoader, random_split\n",
    "\n",
    "# 1. Preparar los datos\n",
    "\n",
    "# Directorio que contiene las imágenes\n",
    "data_dir = \"../imagenes_entrenamiento\"\n",
    "\n",
    "# Tamaño de los lotes de datos\n",
    "batch_size = 8\n",
    "\n",
    "# Transformaciones que se aplican a las imágenes\n",
    "transform = transforms.Compose([\n",
    "    transforms.Resize((224, 224)),  # Redimensionar las imágenes a 224x224 píxeles\n",
    "    transforms.ToTensor(),  # Convertir las imágenes a tensores\n",
    "    transforms.Normalize([0.485, 0.456, 0.406], [0.229, 0.224, 0.225])  # Normalizar los colores\n",
    "])\n",
    "\n",
    "# Cargar las imágenes y asignar etiquetas automáticamente según los nombres de las carpetas\n",
    "dataset = datasets.ImageFolder(data_dir, transform=transform)\n",
    "\n",
    "# Dividir el conjunto de datos en entrenamiento y validación\n",
    "train_size = int(0.8 * len(dataset))\n",
    "val_size = len(dataset) - train_size\n",
    "train_dataset, val_dataset = random_split(dataset, [train_size, val_size])\n",
    "\n",
    "# Crear cargadores de datos para el entrenamiento y la validación\n",
    "train_loader = DataLoader(train_dataset, batch_size=batch_size, shuffle=True)\n",
    "val_loader = DataLoader(val_dataset, batch_size=batch_size, shuffle=False)\n",
    "\n",
    "# 2. Entrenar el modelo\n",
    "\n",
    "# Utilizar ResNet-18 preentrenada\n",
    "#model = models.resnet18(pretrained=True) --> Por esta linea daba warning\n",
    "model = models.resnet18(weights=models.ResNet18_Weights.IMAGENET1K_V1)\n",
    "\n",
    "# Modificar la capa final para clasificar en 3 clases\n",
    "num_features = model.fc.in_features\n",
    "model.fc = nn.Linear(num_features, 3)\n",
    "\n",
    "# Definir la función de pérdida y el optimizador\n",
    "criterion = nn.CrossEntropyLoss()\n",
    "optimizer = optim.Adam(model.parameters(), lr=0.001)\n",
    "\n",
    "# Número de épocas de entrenamiento\n",
    "num_epochs = 5\n",
    "for epoch in range(num_epochs):\n",
    "    model.train()  # Establecer el modo de entrenamiento\n",
    "    running_loss = 0.0\n",
    "    for inputs, labels in train_loader:  # Iterar sobre los lotes de datos\n",
    "        optimizer.zero_grad()  # Limpiar los gradientes\n",
    "        outputs = model(inputs)  # Hacer la predicción\n",
    "        loss = criterion(outputs, labels)  # Calcular la pérdida\n",
    "        loss.backward()  # Propagar hacia atrás\n",
    "        optimizer.step()  # Actualizar los parámetros\n",
    "        running_loss += loss.item()\n",
    "    print(f\"Época [{epoch+1}/{num_epochs}], Pérdida: {running_loss/len(train_loader):.4f}\")\n",
    "\n",
    "# 3. Evaluar el modelo\n",
    "\n",
    "model.eval()  # Establecer el modo de evaluación\n",
    "correct = 0\n",
    "total = 0\n",
    "with torch.no_grad():  # Desactivar el cálculo de gradientes\n",
    "    for inputs, labels in val_loader:  # Iterar sobre los lotes de datos de validación\n",
    "        outputs = model(inputs)\n",
    "        _, predicted = torch.max(outputs, 1)  # Obtener la clase con la mayor probabilidad\n",
    "        total += labels.size(0)\n",
    "        correct += (predicted == labels).sum().item()\n",
    "print(f\"Exactitud de validación: {100 * correct / total:.2f}%\")"
   ]
  },
  {
   "cell_type": "markdown",
   "metadata": {},
   "source": [
    "### Predecir ya con el modelo entrenado"
   ]
  },
  {
   "cell_type": "code",
   "execution_count": 2,
   "metadata": {},
   "outputs": [
    {
     "name": "stdout",
     "output_type": "stream",
     "text": [
      "La persona en la imagen \"prueba1.jpg\" tiene \"mucha\" ropa.\n",
      "La persona en la imagen \"prueba2.jpg\" tiene \"poca\" ropa.\n",
      "La persona en la imagen \"prueba3.webp\" tiene \"mucha\" ropa.\n",
      "La persona en la imagen \"prueba4.jpg\" tiene \"poca\" ropa.\n",
      "La persona en la imagen \"prueba5.jpg\" tiene \"mucha\" ropa.\n",
      "La persona en la imagen \"prueba6.jpg\" tiene \"poca\" ropa.\n",
      "La persona en la imagen \"prueba7.jpg\" tiene \"mucha\" ropa.\n",
      "La persona en la imagen \"prueba8.webp\" tiene \"poca\" ropa.\n",
      "La persona en la imagen \"prueba9.webp\" tiene \"poca\" ropa.\n",
      "La persona en la imagen \"prueba10.webp\" tiene \"poca\" ropa.\n",
      "La persona en la imagen \"prueba11.webp\" tiene \"mucha\" ropa.\n",
      "La persona en la imagen \"prueba12.jpg\" tiene \"poca\" ropa.\n",
      "La persona en la imagen \"prueba13.webp\" tiene \"poca\" ropa.\n",
      "La persona en la imagen \"prueba14.webp\" tiene \"poca\" ropa.\n",
      "La persona en la imagen \"prueba15.jpg\" tiene \"poca\" ropa.\n",
      "La persona en la imagen \"prueba16.jpg\" tiene \"mucha\" ropa.\n",
      "La persona en la imagen \"prueba17.jpg\" tiene \"mucha\" ropa.\n",
      "La persona en la imagen \"prueba19.jpg\" tiene \"mucha\" ropa.\n",
      "La persona en la imagen \"prueba20.jpg\" tiene \"poca\" ropa.\n",
      "La persona en la imagen \"prueba21.jpg\" tiene \"poca\" ropa.\n",
      "La persona en la imagen \"prueba22.jpg\" tiene \"mucha\" ropa.\n",
      "La persona en la imagen \"prueba23.jpg\" tiene \"mucha\" ropa.\n",
      "La persona en la imagen \"prueba24.jpg\" tiene \"mucha\" ropa.\n",
      "La persona en la imagen \"prueba25.webp\" tiene \"poca\" ropa.\n",
      "La persona en la imagen \"prueba26.jpg\" tiene \"poca\" ropa.\n",
      "La persona en la imagen \"prueba27.jpg\" tiene \"mucha\" ropa.\n",
      "La persona en la imagen \"prueba28.jpg\" tiene \"poca\" ropa.\n",
      "La persona en la imagen \"prueba29.jpg\" tiene \"poca\" ropa.\n",
      "La persona en la imagen \"prueba30.jpg\" tiene \"poca\" ropa.\n",
      "La persona en la imagen \"prueba31.webp\" tiene \"poca\" ropa.\n",
      "La persona en la imagen \"prueba32.jpg\" tiene \"poca\" ropa.\n"
     ]
    }
   ],
   "source": [
    "import os\n",
    "import pandas as pd\n",
    "from PIL import Image\n",
    "\n",
    "# 4. Hacer predicciones\n",
    "\n",
    "def predict_images(excel_file):\n",
    "    \"\"\"Función para predecir la clase de todas las imágenes en un archivo de Excel.\"\"\"\n",
    "    # Cargar el archivo de Excel en un DataFrame\n",
    "    df = pd.read_excel(excel_file)\n",
    "\n",
    "    # Iterar sobre cada fila del DataFrame\n",
    "    for index, row in df.iterrows():\n",
    "        image_path = row[\"IMAGEN_PASAJERO\"]\n",
    "        if pd.notnull(image_path) and os.path.isfile(image_path):\n",
    "            # Verificar si la ruta es un archivo válido\n",
    "            image = Image.open(image_path)\n",
    "            image = transform(image).unsqueeze(0)\n",
    "            model.eval()\n",
    "            with torch.no_grad():\n",
    "                output = model(image)\n",
    "                _, predicted = torch.max(output, 1)\n",
    "                class_name = dataset.classes[predicted.item()]\n",
    "            print(f'La persona en la imagen \"{os.path.basename(image_path)}\" tiene \"{class_name}\" ropa.')\n",
    "\n",
    "# ruta hacia la bd de los pasajeros\n",
    "predict_images(\"../pasajeros/bd_pasajeros.xlsx\")\n"
   ]
  }
 ],
 "metadata": {
  "kernelspec": {
   "display_name": "Python 3",
   "language": "python",
   "name": "python3"
  },
  "language_info": {
   "codemirror_mode": {
    "name": "ipython",
    "version": 3
   },
   "file_extension": ".py",
   "mimetype": "text/x-python",
   "name": "python",
   "nbconvert_exporter": "python",
   "pygments_lexer": "ipython3",
   "version": "3.10.9"
  }
 },
 "nbformat": 4,
 "nbformat_minor": 2
}
